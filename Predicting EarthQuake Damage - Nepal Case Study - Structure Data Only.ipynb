{
 "cells": [
  {
   "cell_type": "markdown",
   "id": "57d0fa51",
   "metadata": {},
   "source": [
    "# Predicting Building Damage"
   ]
  },
  {
   "cell_type": "code",
   "execution_count": 1,
   "id": "70257fd9",
   "metadata": {},
   "outputs": [],
   "source": [
    "import matplotlib.pyplot as plt\n",
    "import numpy as np\n",
    "import pandas as pd\n",
    "import seaborn as sns\n",
    "from category_encoders import OneHotEncoder\n",
    "from sklearn.linear_model import LogisticRegression\n",
    "from sklearn.metrics import accuracy_score\n",
    "from sklearn.model_selection import train_test_split\n",
    "from sklearn.pipeline import Pipeline, make_pipeline\n",
    "from sklearn.utils.validation import check_is_fitted\n",
    "\n",
    "from sklearn.metrics import classification_report\n",
    "from tensorflow.keras.models import Sequential\n",
    "from tensorflow.keras.layers import Dense, SimpleRNN\n",
    "from sklearn.metrics import mean_squared_error, mean_absolute_error\n",
    "from tensorflow.keras.callbacks import EarlyStopping\n",
    "from sklearn.metrics import confusion_matrix, roc_auc_score, roc_curve, auc\n",
    "from sklearn.preprocessing import MinMaxScaler"
   ]
  },
  {
   "cell_type": "code",
   "execution_count": 2,
   "id": "f7faddef",
   "metadata": {},
   "outputs": [],
   "source": [
    "# !pip install category-encoders"
   ]
  },
  {
   "cell_type": "markdown",
   "id": "0391c9cf",
   "metadata": {},
   "source": [
    "## Read datasets"
   ]
  },
  {
   "cell_type": "code",
   "execution_count": 3,
   "id": "e2d77cc1",
   "metadata": {},
   "outputs": [],
   "source": [
    "structure = pd.read_csv('./nepal_earthquke_full_dataset/csv_building_structure.csv', low_memory=False)"
   ]
  },
  {
   "cell_type": "markdown",
   "id": "e0cc30c2",
   "metadata": {},
   "source": [
    "# Exploratory Data Analyses (EDA)"
   ]
  },
  {
   "cell_type": "markdown",
   "id": "3681bb7f",
   "metadata": {},
   "source": [
    "## Inspect the Data: Structure and Characteristics"
   ]
  },
  {
   "cell_type": "code",
   "execution_count": 4,
   "id": "c9278c22",
   "metadata": {},
   "outputs": [
    {
     "data": {
      "text/html": [
       "<div>\n",
       "<style scoped>\n",
       "    .dataframe tbody tr th:only-of-type {\n",
       "        vertical-align: middle;\n",
       "    }\n",
       "\n",
       "    .dataframe tbody tr th {\n",
       "        vertical-align: top;\n",
       "    }\n",
       "\n",
       "    .dataframe thead th {\n",
       "        text-align: right;\n",
       "    }\n",
       "</style>\n",
       "<table border=\"1\" class=\"dataframe\">\n",
       "  <thead>\n",
       "    <tr style=\"text-align: right;\">\n",
       "      <th></th>\n",
       "      <th>building_id</th>\n",
       "      <th>district_id</th>\n",
       "      <th>vdcmun_id</th>\n",
       "      <th>ward_id</th>\n",
       "      <th>count_floors_pre_eq</th>\n",
       "      <th>count_floors_post_eq</th>\n",
       "      <th>age_building</th>\n",
       "      <th>plinth_area_sq_ft</th>\n",
       "      <th>height_ft_pre_eq</th>\n",
       "      <th>height_ft_post_eq</th>\n",
       "      <th>...</th>\n",
       "      <th>has_superstructure_mud_mortar_brick</th>\n",
       "      <th>has_superstructure_cement_mortar_brick</th>\n",
       "      <th>has_superstructure_timber</th>\n",
       "      <th>has_superstructure_bamboo</th>\n",
       "      <th>has_superstructure_rc_non_engineered</th>\n",
       "      <th>has_superstructure_rc_engineered</th>\n",
       "      <th>has_superstructure_other</th>\n",
       "      <th>condition_post_eq</th>\n",
       "      <th>damage_grade</th>\n",
       "      <th>technical_solution_proposed</th>\n",
       "    </tr>\n",
       "  </thead>\n",
       "  <tbody>\n",
       "    <tr>\n",
       "      <th>0</th>\n",
       "      <td>120101000011</td>\n",
       "      <td>12</td>\n",
       "      <td>1207</td>\n",
       "      <td>120703</td>\n",
       "      <td>1</td>\n",
       "      <td>1</td>\n",
       "      <td>9</td>\n",
       "      <td>288</td>\n",
       "      <td>9</td>\n",
       "      <td>9</td>\n",
       "      <td>...</td>\n",
       "      <td>0</td>\n",
       "      <td>0</td>\n",
       "      <td>0</td>\n",
       "      <td>1</td>\n",
       "      <td>0</td>\n",
       "      <td>0</td>\n",
       "      <td>0</td>\n",
       "      <td>Damaged-Used in risk</td>\n",
       "      <td>Grade 3</td>\n",
       "      <td>Major repair</td>\n",
       "    </tr>\n",
       "    <tr>\n",
       "      <th>1</th>\n",
       "      <td>120101000021</td>\n",
       "      <td>12</td>\n",
       "      <td>1207</td>\n",
       "      <td>120703</td>\n",
       "      <td>1</td>\n",
       "      <td>1</td>\n",
       "      <td>15</td>\n",
       "      <td>364</td>\n",
       "      <td>9</td>\n",
       "      <td>9</td>\n",
       "      <td>...</td>\n",
       "      <td>0</td>\n",
       "      <td>0</td>\n",
       "      <td>0</td>\n",
       "      <td>1</td>\n",
       "      <td>0</td>\n",
       "      <td>0</td>\n",
       "      <td>0</td>\n",
       "      <td>Damaged-Repaired and used</td>\n",
       "      <td>Grade 5</td>\n",
       "      <td>Reconstruction</td>\n",
       "    </tr>\n",
       "    <tr>\n",
       "      <th>2</th>\n",
       "      <td>120101000031</td>\n",
       "      <td>12</td>\n",
       "      <td>1207</td>\n",
       "      <td>120703</td>\n",
       "      <td>1</td>\n",
       "      <td>1</td>\n",
       "      <td>20</td>\n",
       "      <td>384</td>\n",
       "      <td>9</td>\n",
       "      <td>9</td>\n",
       "      <td>...</td>\n",
       "      <td>0</td>\n",
       "      <td>0</td>\n",
       "      <td>0</td>\n",
       "      <td>0</td>\n",
       "      <td>0</td>\n",
       "      <td>0</td>\n",
       "      <td>0</td>\n",
       "      <td>Damaged-Repaired and used</td>\n",
       "      <td>Grade 2</td>\n",
       "      <td>Minor repair</td>\n",
       "    </tr>\n",
       "    <tr>\n",
       "      <th>3</th>\n",
       "      <td>120101000041</td>\n",
       "      <td>12</td>\n",
       "      <td>1207</td>\n",
       "      <td>120703</td>\n",
       "      <td>1</td>\n",
       "      <td>1</td>\n",
       "      <td>20</td>\n",
       "      <td>312</td>\n",
       "      <td>9</td>\n",
       "      <td>9</td>\n",
       "      <td>...</td>\n",
       "      <td>0</td>\n",
       "      <td>0</td>\n",
       "      <td>0</td>\n",
       "      <td>0</td>\n",
       "      <td>0</td>\n",
       "      <td>0</td>\n",
       "      <td>0</td>\n",
       "      <td>Damaged-Repaired and used</td>\n",
       "      <td>Grade 2</td>\n",
       "      <td>Minor repair</td>\n",
       "    </tr>\n",
       "    <tr>\n",
       "      <th>4</th>\n",
       "      <td>120101000051</td>\n",
       "      <td>12</td>\n",
       "      <td>1207</td>\n",
       "      <td>120703</td>\n",
       "      <td>1</td>\n",
       "      <td>1</td>\n",
       "      <td>30</td>\n",
       "      <td>308</td>\n",
       "      <td>9</td>\n",
       "      <td>9</td>\n",
       "      <td>...</td>\n",
       "      <td>0</td>\n",
       "      <td>0</td>\n",
       "      <td>0</td>\n",
       "      <td>0</td>\n",
       "      <td>0</td>\n",
       "      <td>0</td>\n",
       "      <td>0</td>\n",
       "      <td>Damaged-Repaired and used</td>\n",
       "      <td>Grade 1</td>\n",
       "      <td>Minor repair</td>\n",
       "    </tr>\n",
       "  </tbody>\n",
       "</table>\n",
       "<p>5 rows × 31 columns</p>\n",
       "</div>"
      ],
      "text/plain": [
       "    building_id  district_id  vdcmun_id  ward_id  count_floors_pre_eq  \\\n",
       "0  120101000011           12       1207   120703                    1   \n",
       "1  120101000021           12       1207   120703                    1   \n",
       "2  120101000031           12       1207   120703                    1   \n",
       "3  120101000041           12       1207   120703                    1   \n",
       "4  120101000051           12       1207   120703                    1   \n",
       "\n",
       "   count_floors_post_eq  age_building  plinth_area_sq_ft  height_ft_pre_eq  \\\n",
       "0                     1             9                288                 9   \n",
       "1                     1            15                364                 9   \n",
       "2                     1            20                384                 9   \n",
       "3                     1            20                312                 9   \n",
       "4                     1            30                308                 9   \n",
       "\n",
       "   height_ft_post_eq  ... has_superstructure_mud_mortar_brick  \\\n",
       "0                  9  ...                                   0   \n",
       "1                  9  ...                                   0   \n",
       "2                  9  ...                                   0   \n",
       "3                  9  ...                                   0   \n",
       "4                  9  ...                                   0   \n",
       "\n",
       "  has_superstructure_cement_mortar_brick has_superstructure_timber  \\\n",
       "0                                      0                         0   \n",
       "1                                      0                         0   \n",
       "2                                      0                         0   \n",
       "3                                      0                         0   \n",
       "4                                      0                         0   \n",
       "\n",
       "  has_superstructure_bamboo has_superstructure_rc_non_engineered  \\\n",
       "0                         1                                    0   \n",
       "1                         1                                    0   \n",
       "2                         0                                    0   \n",
       "3                         0                                    0   \n",
       "4                         0                                    0   \n",
       "\n",
       "  has_superstructure_rc_engineered has_superstructure_other  \\\n",
       "0                                0                        0   \n",
       "1                                0                        0   \n",
       "2                                0                        0   \n",
       "3                                0                        0   \n",
       "4                                0                        0   \n",
       "\n",
       "           condition_post_eq  damage_grade  technical_solution_proposed  \n",
       "0       Damaged-Used in risk       Grade 3                 Major repair  \n",
       "1  Damaged-Repaired and used       Grade 5               Reconstruction  \n",
       "2  Damaged-Repaired and used       Grade 2                 Minor repair  \n",
       "3  Damaged-Repaired and used       Grade 2                 Minor repair  \n",
       "4  Damaged-Repaired and used       Grade 1                 Minor repair  \n",
       "\n",
       "[5 rows x 31 columns]"
      ]
     },
     "execution_count": 4,
     "metadata": {},
     "output_type": "execute_result"
    }
   ],
   "source": [
    "structure.head()"
   ]
  },
  {
   "cell_type": "code",
   "execution_count": 5,
   "id": "8be9744f",
   "metadata": {},
   "outputs": [
    {
     "name": "stdout",
     "output_type": "stream",
     "text": [
      "<class 'pandas.core.frame.DataFrame'>\n",
      "RangeIndex: 762106 entries, 0 to 762105\n",
      "Data columns (total 31 columns):\n",
      " #   Column                                  Non-Null Count   Dtype \n",
      "---  ------                                  --------------   ----- \n",
      " 0   building_id                             762106 non-null  int64 \n",
      " 1   district_id                             762106 non-null  int64 \n",
      " 2   vdcmun_id                               762106 non-null  int64 \n",
      " 3   ward_id                                 762106 non-null  int64 \n",
      " 4   count_floors_pre_eq                     762106 non-null  int64 \n",
      " 5   count_floors_post_eq                    762106 non-null  int64 \n",
      " 6   age_building                            762106 non-null  int64 \n",
      " 7   plinth_area_sq_ft                       762106 non-null  int64 \n",
      " 8   height_ft_pre_eq                        762106 non-null  int64 \n",
      " 9   height_ft_post_eq                       762106 non-null  int64 \n",
      " 10  land_surface_condition                  762106 non-null  object\n",
      " 11  foundation_type                         762106 non-null  object\n",
      " 12  roof_type                               762106 non-null  object\n",
      " 13  ground_floor_type                       762106 non-null  object\n",
      " 14  other_floor_type                        762106 non-null  object\n",
      " 15  position                                762105 non-null  object\n",
      " 16  plan_configuration                      762105 non-null  object\n",
      " 17  has_superstructure_adobe_mud            762106 non-null  int64 \n",
      " 18  has_superstructure_mud_mortar_stone     762106 non-null  int64 \n",
      " 19  has_superstructure_stone_flag           762106 non-null  int64 \n",
      " 20  has_superstructure_cement_mortar_stone  762106 non-null  int64 \n",
      " 21  has_superstructure_mud_mortar_brick     762106 non-null  int64 \n",
      " 22  has_superstructure_cement_mortar_brick  762106 non-null  int64 \n",
      " 23  has_superstructure_timber               762106 non-null  int64 \n",
      " 24  has_superstructure_bamboo               762106 non-null  int64 \n",
      " 25  has_superstructure_rc_non_engineered    762106 non-null  int64 \n",
      " 26  has_superstructure_rc_engineered        762106 non-null  int64 \n",
      " 27  has_superstructure_other                762106 non-null  int64 \n",
      " 28  condition_post_eq                       762106 non-null  object\n",
      " 29  damage_grade                            762094 non-null  object\n",
      " 30  technical_solution_proposed             762094 non-null  object\n",
      "dtypes: int64(21), object(10)\n",
      "memory usage: 180.2+ MB\n"
     ]
    }
   ],
   "source": [
    "structure.info()"
   ]
  },
  {
   "cell_type": "code",
   "execution_count": null,
   "id": "d6090372",
   "metadata": {},
   "outputs": [],
   "source": []
  },
  {
   "cell_type": "markdown",
   "id": "39736822",
   "metadata": {},
   "source": [
    "## Data Preparation and Cleaning"
   ]
  },
  {
   "cell_type": "code",
   "execution_count": 6,
   "id": "775c9fd5",
   "metadata": {},
   "outputs": [
    {
     "data": {
      "text/plain": [
       "building_id                                0\n",
       "district_id                                0\n",
       "vdcmun_id                                  0\n",
       "ward_id                                    0\n",
       "count_floors_pre_eq                        0\n",
       "count_floors_post_eq                       0\n",
       "age_building                               0\n",
       "plinth_area_sq_ft                          0\n",
       "height_ft_pre_eq                           0\n",
       "height_ft_post_eq                          0\n",
       "land_surface_condition                     0\n",
       "foundation_type                            0\n",
       "roof_type                                  0\n",
       "ground_floor_type                          0\n",
       "other_floor_type                           0\n",
       "position                                   1\n",
       "plan_configuration                         1\n",
       "has_superstructure_adobe_mud               0\n",
       "has_superstructure_mud_mortar_stone        0\n",
       "has_superstructure_stone_flag              0\n",
       "has_superstructure_cement_mortar_stone     0\n",
       "has_superstructure_mud_mortar_brick        0\n",
       "has_superstructure_cement_mortar_brick     0\n",
       "has_superstructure_timber                  0\n",
       "has_superstructure_bamboo                  0\n",
       "has_superstructure_rc_non_engineered       0\n",
       "has_superstructure_rc_engineered           0\n",
       "has_superstructure_other                   0\n",
       "condition_post_eq                          0\n",
       "damage_grade                              12\n",
       "technical_solution_proposed               12\n",
       "dtype: int64"
      ]
     },
     "execution_count": 6,
     "metadata": {},
     "output_type": "execute_result"
    }
   ],
   "source": [
    "structure.isnull().sum()"
   ]
  },
  {
   "cell_type": "markdown",
   "id": "11ffc395",
   "metadata": {},
   "source": [
    "From the info above we can see the data has very few missing values hence we can safely drop rows with missing values without losing too much information."
   ]
  },
  {
   "cell_type": "code",
   "execution_count": 7,
   "id": "535b5a41",
   "metadata": {},
   "outputs": [],
   "source": [
    "def wrangle(df):\n",
    "    \n",
    "    #Remove unneccessary and leaky features (columns) \n",
    "    drop_cols = [col for col in df.columns if 'post_eq' in col]\n",
    "    df = df.drop(columns=drop_cols)\n",
    "    df = df.drop(columns=['building_id','district_id',\n",
    "                     'vdcmun_id',\n",
    "                     'ward_id',\n",
    "                     'technical_solution_proposed'])\n",
    "    #drop rows with null/missing values\n",
    "    df = df.dropna()\n",
    "    \n",
    "    return df"
   ]
  },
  {
   "cell_type": "code",
   "execution_count": 8,
   "id": "e0edabea",
   "metadata": {},
   "outputs": [
    {
     "data": {
      "text/plain": [
       "(762106, 31)"
      ]
     },
     "execution_count": 8,
     "metadata": {},
     "output_type": "execute_result"
    }
   ],
   "source": [
    "structure.shape"
   ]
  },
  {
   "cell_type": "code",
   "execution_count": 9,
   "id": "372fab65",
   "metadata": {},
   "outputs": [
    {
     "data": {
      "text/plain": [
       "(762094, 23)"
      ]
     },
     "execution_count": 9,
     "metadata": {},
     "output_type": "execute_result"
    }
   ],
   "source": [
    "clean_df = wrangle(structure)\n",
    "clean_df.shape"
   ]
  },
  {
   "cell_type": "markdown",
   "id": "732e8253",
   "metadata": {},
   "source": [
    "## Inspect and Correct data types"
   ]
  },
  {
   "cell_type": "code",
   "execution_count": 10,
   "id": "e9791f1e",
   "metadata": {},
   "outputs": [
    {
     "data": {
      "text/plain": [
       "count_floors_pre_eq                        int64\n",
       "age_building                               int64\n",
       "plinth_area_sq_ft                          int64\n",
       "height_ft_pre_eq                           int64\n",
       "land_surface_condition                    object\n",
       "foundation_type                           object\n",
       "roof_type                                 object\n",
       "ground_floor_type                         object\n",
       "other_floor_type                          object\n",
       "position                                  object\n",
       "plan_configuration                        object\n",
       "has_superstructure_adobe_mud               int64\n",
       "has_superstructure_mud_mortar_stone        int64\n",
       "has_superstructure_stone_flag              int64\n",
       "has_superstructure_cement_mortar_stone     int64\n",
       "has_superstructure_mud_mortar_brick        int64\n",
       "has_superstructure_cement_mortar_brick     int64\n",
       "has_superstructure_timber                  int64\n",
       "has_superstructure_bamboo                  int64\n",
       "has_superstructure_rc_non_engineered       int64\n",
       "has_superstructure_rc_engineered           int64\n",
       "has_superstructure_other                   int64\n",
       "damage_grade                              object\n",
       "dtype: object"
      ]
     },
     "execution_count": 10,
     "metadata": {},
     "output_type": "execute_result"
    }
   ],
   "source": [
    "clean_df.dtypes"
   ]
  },
  {
   "cell_type": "code",
   "execution_count": null,
   "id": "18bddbe5",
   "metadata": {},
   "outputs": [],
   "source": []
  },
  {
   "cell_type": "markdown",
   "id": "2e3e82a6",
   "metadata": {},
   "source": [
    "## Inspect if there are still null/missing values \n"
   ]
  },
  {
   "cell_type": "code",
   "execution_count": 11,
   "id": "1dc72577",
   "metadata": {},
   "outputs": [
    {
     "data": {
      "text/plain": [
       "count_floors_pre_eq                       0\n",
       "age_building                              0\n",
       "plinth_area_sq_ft                         0\n",
       "height_ft_pre_eq                          0\n",
       "land_surface_condition                    0\n",
       "foundation_type                           0\n",
       "roof_type                                 0\n",
       "ground_floor_type                         0\n",
       "other_floor_type                          0\n",
       "position                                  0\n",
       "plan_configuration                        0\n",
       "has_superstructure_adobe_mud              0\n",
       "has_superstructure_mud_mortar_stone       0\n",
       "has_superstructure_stone_flag             0\n",
       "has_superstructure_cement_mortar_stone    0\n",
       "has_superstructure_mud_mortar_brick       0\n",
       "has_superstructure_cement_mortar_brick    0\n",
       "has_superstructure_timber                 0\n",
       "has_superstructure_bamboo                 0\n",
       "has_superstructure_rc_non_engineered      0\n",
       "has_superstructure_rc_engineered          0\n",
       "has_superstructure_other                  0\n",
       "damage_grade                              0\n",
       "dtype: int64"
      ]
     },
     "execution_count": 11,
     "metadata": {},
     "output_type": "execute_result"
    }
   ],
   "source": [
    "clean_df.isnull().sum()"
   ]
  },
  {
   "cell_type": "code",
   "execution_count": 12,
   "id": "db9b6340",
   "metadata": {},
   "outputs": [
    {
     "data": {
      "text/plain": [
       "(762094, 23)"
      ]
     },
     "execution_count": 12,
     "metadata": {},
     "output_type": "execute_result"
    }
   ],
   "source": [
    "clean_df.shape"
   ]
  },
  {
   "cell_type": "code",
   "execution_count": null,
   "id": "805c877c",
   "metadata": {},
   "outputs": [],
   "source": []
  },
  {
   "cell_type": "code",
   "execution_count": null,
   "id": "8954528e",
   "metadata": {},
   "outputs": [],
   "source": []
  },
  {
   "cell_type": "code",
   "execution_count": 13,
   "id": "2874ace4",
   "metadata": {},
   "outputs": [
    {
     "data": {
      "text/plain": [
       "(762106, 31)"
      ]
     },
     "execution_count": 13,
     "metadata": {},
     "output_type": "execute_result"
    }
   ],
   "source": [
    "structure.shape"
   ]
  },
  {
   "cell_type": "code",
   "execution_count": 14,
   "id": "bf7d463b",
   "metadata": {},
   "outputs": [
    {
     "data": {
      "image/png": "[encoded data removed]",
      "text/plain": [
       "<Figure size 640x480 with 2 Axes>"
      ]
     },
     "metadata": {},
     "output_type": "display_data"
    }
   ],
   "source": [
    "# Damage grade (and any other non-numeric feature) is automatically ignored in the correlation matrix since it is currently non-numeric. \n",
    "# So we don't have to manually remove it for this multicollinearity test\n",
    "correlation = clean_df.corr()\n",
    "sns.heatmap(correlation);"
   ]
  },
  {
   "cell_type": "markdown",
   "id": "afcb5098",
   "metadata": {},
   "source": [
    "# Engineer a new damage grade numeric feature"
   ]
  },
  {
   "cell_type": "code",
   "execution_count": 15,
   "id": "e9705175",
   "metadata": {},
   "outputs": [],
   "source": [
    "grades = clean_df['damage_grade'].unique().tolist()"
   ]
  },
  {
   "cell_type": "code",
   "execution_count": 16,
   "id": "ee793fb4",
   "metadata": {},
   "outputs": [],
   "source": [
    "grades = ['Grade 1','Grade 2','Grade 3','Grade 4', 'Grade 5']"
   ]
  },
  {
   "cell_type": "code",
   "execution_count": 17,
   "id": "b69f5e39",
   "metadata": {},
   "outputs": [],
   "source": [
    "clean_df['damage_grade'] = pd.Categorical(clean_df['damage_grade'], categories=grades, ordered=True)"
   ]
  },
  {
   "cell_type": "code",
   "execution_count": 18,
   "id": "70bd2901",
   "metadata": {},
   "outputs": [
    {
     "data": {
      "text/html": [
       "<div>\n",
       "<style scoped>\n",
       "    .dataframe tbody tr th:only-of-type {\n",
       "        vertical-align: middle;\n",
       "    }\n",
       "\n",
       "    .dataframe tbody tr th {\n",
       "        vertical-align: top;\n",
       "    }\n",
       "\n",
       "    .dataframe thead th {\n",
       "        text-align: right;\n",
       "    }\n",
       "</style>\n",
       "<table border=\"1\" class=\"dataframe\">\n",
       "  <thead>\n",
       "    <tr style=\"text-align: right;\">\n",
       "      <th></th>\n",
       "      <th>count_floors_pre_eq</th>\n",
       "      <th>age_building</th>\n",
       "      <th>plinth_area_sq_ft</th>\n",
       "      <th>height_ft_pre_eq</th>\n",
       "      <th>land_surface_condition</th>\n",
       "      <th>foundation_type</th>\n",
       "      <th>roof_type</th>\n",
       "      <th>ground_floor_type</th>\n",
       "      <th>other_floor_type</th>\n",
       "      <th>position</th>\n",
       "      <th>...</th>\n",
       "      <th>has_superstructure_stone_flag</th>\n",
       "      <th>has_superstructure_cement_mortar_stone</th>\n",
       "      <th>has_superstructure_mud_mortar_brick</th>\n",
       "      <th>has_superstructure_cement_mortar_brick</th>\n",
       "      <th>has_superstructure_timber</th>\n",
       "      <th>has_superstructure_bamboo</th>\n",
       "      <th>has_superstructure_rc_non_engineered</th>\n",
       "      <th>has_superstructure_rc_engineered</th>\n",
       "      <th>has_superstructure_other</th>\n",
       "      <th>damage_grade</th>\n",
       "    </tr>\n",
       "  </thead>\n",
       "  <tbody>\n",
       "    <tr>\n",
       "      <th>1</th>\n",
       "      <td>1</td>\n",
       "      <td>15</td>\n",
       "      <td>364</td>\n",
       "      <td>9</td>\n",
       "      <td>Flat</td>\n",
       "      <td>Other</td>\n",
       "      <td>Bamboo/Timber-Light roof</td>\n",
       "      <td>Mud</td>\n",
       "      <td>Not applicable</td>\n",
       "      <td>Not attached</td>\n",
       "      <td>...</td>\n",
       "      <td>0</td>\n",
       "      <td>0</td>\n",
       "      <td>0</td>\n",
       "      <td>0</td>\n",
       "      <td>0</td>\n",
       "      <td>1</td>\n",
       "      <td>0</td>\n",
       "      <td>0</td>\n",
       "      <td>0</td>\n",
       "      <td>Grade 5</td>\n",
       "    </tr>\n",
       "    <tr>\n",
       "      <th>6</th>\n",
       "      <td>1</td>\n",
       "      <td>13</td>\n",
       "      <td>234</td>\n",
       "      <td>9</td>\n",
       "      <td>Flat</td>\n",
       "      <td>Other</td>\n",
       "      <td>Bamboo/Timber-Light roof</td>\n",
       "      <td>Mud</td>\n",
       "      <td>Not applicable</td>\n",
       "      <td>Not attached</td>\n",
       "      <td>...</td>\n",
       "      <td>0</td>\n",
       "      <td>0</td>\n",
       "      <td>0</td>\n",
       "      <td>0</td>\n",
       "      <td>0</td>\n",
       "      <td>0</td>\n",
       "      <td>0</td>\n",
       "      <td>0</td>\n",
       "      <td>0</td>\n",
       "      <td>Grade 5</td>\n",
       "    </tr>\n",
       "    <tr>\n",
       "      <th>39</th>\n",
       "      <td>1</td>\n",
       "      <td>60</td>\n",
       "      <td>348</td>\n",
       "      <td>12</td>\n",
       "      <td>Moderate slope</td>\n",
       "      <td>Mud mortar-Stone/Brick</td>\n",
       "      <td>Bamboo/Timber-Light roof</td>\n",
       "      <td>Mud</td>\n",
       "      <td>Not applicable</td>\n",
       "      <td>Not attached</td>\n",
       "      <td>...</td>\n",
       "      <td>0</td>\n",
       "      <td>0</td>\n",
       "      <td>0</td>\n",
       "      <td>0</td>\n",
       "      <td>0</td>\n",
       "      <td>0</td>\n",
       "      <td>0</td>\n",
       "      <td>0</td>\n",
       "      <td>0</td>\n",
       "      <td>Grade 5</td>\n",
       "    </tr>\n",
       "    <tr>\n",
       "      <th>44</th>\n",
       "      <td>2</td>\n",
       "      <td>40</td>\n",
       "      <td>288</td>\n",
       "      <td>15</td>\n",
       "      <td>Flat</td>\n",
       "      <td>Mud mortar-Stone/Brick</td>\n",
       "      <td>Bamboo/Timber-Light roof</td>\n",
       "      <td>Mud</td>\n",
       "      <td>TImber/Bamboo-Mud</td>\n",
       "      <td>Not attached</td>\n",
       "      <td>...</td>\n",
       "      <td>0</td>\n",
       "      <td>0</td>\n",
       "      <td>0</td>\n",
       "      <td>0</td>\n",
       "      <td>0</td>\n",
       "      <td>0</td>\n",
       "      <td>0</td>\n",
       "      <td>0</td>\n",
       "      <td>0</td>\n",
       "      <td>Grade 5</td>\n",
       "    </tr>\n",
       "    <tr>\n",
       "      <th>61</th>\n",
       "      <td>2</td>\n",
       "      <td>20</td>\n",
       "      <td>336</td>\n",
       "      <td>21</td>\n",
       "      <td>Steep slope</td>\n",
       "      <td>Mud mortar-Stone/Brick</td>\n",
       "      <td>Bamboo/Timber-Light roof</td>\n",
       "      <td>Mud</td>\n",
       "      <td>TImber/Bamboo-Mud</td>\n",
       "      <td>Not attached</td>\n",
       "      <td>...</td>\n",
       "      <td>0</td>\n",
       "      <td>0</td>\n",
       "      <td>0</td>\n",
       "      <td>0</td>\n",
       "      <td>0</td>\n",
       "      <td>0</td>\n",
       "      <td>0</td>\n",
       "      <td>0</td>\n",
       "      <td>0</td>\n",
       "      <td>Grade 5</td>\n",
       "    </tr>\n",
       "    <tr>\n",
       "      <th>...</th>\n",
       "      <td>...</td>\n",
       "      <td>...</td>\n",
       "      <td>...</td>\n",
       "      <td>...</td>\n",
       "      <td>...</td>\n",
       "      <td>...</td>\n",
       "      <td>...</td>\n",
       "      <td>...</td>\n",
       "      <td>...</td>\n",
       "      <td>...</td>\n",
       "      <td>...</td>\n",
       "      <td>...</td>\n",
       "      <td>...</td>\n",
       "      <td>...</td>\n",
       "      <td>...</td>\n",
       "      <td>...</td>\n",
       "      <td>...</td>\n",
       "      <td>...</td>\n",
       "      <td>...</td>\n",
       "      <td>...</td>\n",
       "      <td>...</td>\n",
       "    </tr>\n",
       "    <tr>\n",
       "      <th>762101</th>\n",
       "      <td>2</td>\n",
       "      <td>60</td>\n",
       "      <td>165</td>\n",
       "      <td>18</td>\n",
       "      <td>Flat</td>\n",
       "      <td>Mud mortar-Stone/Brick</td>\n",
       "      <td>Bamboo/Timber-Heavy roof</td>\n",
       "      <td>Mud</td>\n",
       "      <td>Timber-Planck</td>\n",
       "      <td>Attached-2 side</td>\n",
       "      <td>...</td>\n",
       "      <td>0</td>\n",
       "      <td>0</td>\n",
       "      <td>0</td>\n",
       "      <td>0</td>\n",
       "      <td>0</td>\n",
       "      <td>0</td>\n",
       "      <td>0</td>\n",
       "      <td>0</td>\n",
       "      <td>0</td>\n",
       "      <td>Grade 5</td>\n",
       "    </tr>\n",
       "    <tr>\n",
       "      <th>762102</th>\n",
       "      <td>2</td>\n",
       "      <td>35</td>\n",
       "      <td>342</td>\n",
       "      <td>18</td>\n",
       "      <td>Flat</td>\n",
       "      <td>Mud mortar-Stone/Brick</td>\n",
       "      <td>Bamboo/Timber-Heavy roof</td>\n",
       "      <td>Mud</td>\n",
       "      <td>Timber-Planck</td>\n",
       "      <td>Attached-1 side</td>\n",
       "      <td>...</td>\n",
       "      <td>0</td>\n",
       "      <td>0</td>\n",
       "      <td>0</td>\n",
       "      <td>0</td>\n",
       "      <td>0</td>\n",
       "      <td>0</td>\n",
       "      <td>0</td>\n",
       "      <td>0</td>\n",
       "      <td>0</td>\n",
       "      <td>Grade 5</td>\n",
       "    </tr>\n",
       "    <tr>\n",
       "      <th>762103</th>\n",
       "      <td>2</td>\n",
       "      <td>35</td>\n",
       "      <td>342</td>\n",
       "      <td>18</td>\n",
       "      <td>Flat</td>\n",
       "      <td>Mud mortar-Stone/Brick</td>\n",
       "      <td>Bamboo/Timber-Heavy roof</td>\n",
       "      <td>Mud</td>\n",
       "      <td>Timber-Planck</td>\n",
       "      <td>Not attached</td>\n",
       "      <td>...</td>\n",
       "      <td>0</td>\n",
       "      <td>0</td>\n",
       "      <td>0</td>\n",
       "      <td>0</td>\n",
       "      <td>0</td>\n",
       "      <td>0</td>\n",
       "      <td>0</td>\n",
       "      <td>0</td>\n",
       "      <td>0</td>\n",
       "      <td>Grade 5</td>\n",
       "    </tr>\n",
       "    <tr>\n",
       "      <th>762104</th>\n",
       "      <td>2</td>\n",
       "      <td>19</td>\n",
       "      <td>306</td>\n",
       "      <td>18</td>\n",
       "      <td>Flat</td>\n",
       "      <td>Mud mortar-Stone/Brick</td>\n",
       "      <td>Bamboo/Timber-Heavy roof</td>\n",
       "      <td>Mud</td>\n",
       "      <td>Timber-Planck</td>\n",
       "      <td>Not attached</td>\n",
       "      <td>...</td>\n",
       "      <td>0</td>\n",
       "      <td>0</td>\n",
       "      <td>0</td>\n",
       "      <td>0</td>\n",
       "      <td>0</td>\n",
       "      <td>0</td>\n",
       "      <td>0</td>\n",
       "      <td>0</td>\n",
       "      <td>0</td>\n",
       "      <td>Grade 5</td>\n",
       "    </tr>\n",
       "    <tr>\n",
       "      <th>762105</th>\n",
       "      <td>2</td>\n",
       "      <td>12</td>\n",
       "      <td>840</td>\n",
       "      <td>18</td>\n",
       "      <td>Flat</td>\n",
       "      <td>Mud mortar-Stone/Brick</td>\n",
       "      <td>Bamboo/Timber-Heavy roof</td>\n",
       "      <td>Mud</td>\n",
       "      <td>Timber-Planck</td>\n",
       "      <td>Not attached</td>\n",
       "      <td>...</td>\n",
       "      <td>0</td>\n",
       "      <td>0</td>\n",
       "      <td>0</td>\n",
       "      <td>0</td>\n",
       "      <td>0</td>\n",
       "      <td>0</td>\n",
       "      <td>0</td>\n",
       "      <td>0</td>\n",
       "      <td>0</td>\n",
       "      <td>Grade 5</td>\n",
       "    </tr>\n",
       "  </tbody>\n",
       "</table>\n",
       "<p>275766 rows × 23 columns</p>\n",
       "</div>"
      ],
      "text/plain": [
       "        count_floors_pre_eq  age_building  plinth_area_sq_ft  \\\n",
       "1                         1            15                364   \n",
       "6                         1            13                234   \n",
       "39                        1            60                348   \n",
       "44                        2            40                288   \n",
       "61                        2            20                336   \n",
       "...                     ...           ...                ...   \n",
       "762101                    2            60                165   \n",
       "762102                    2            35                342   \n",
       "762103                    2            35                342   \n",
       "762104                    2            19                306   \n",
       "762105                    2            12                840   \n",
       "\n",
       "        height_ft_pre_eq land_surface_condition         foundation_type  \\\n",
       "1                      9                   Flat                   Other   \n",
       "6                      9                   Flat                   Other   \n",
       "39                    12         Moderate slope  Mud mortar-Stone/Brick   \n",
       "44                    15                   Flat  Mud mortar-Stone/Brick   \n",
       "61                    21            Steep slope  Mud mortar-Stone/Brick   \n",
       "...                  ...                    ...                     ...   \n",
       "762101                18                   Flat  Mud mortar-Stone/Brick   \n",
       "762102                18                   Flat  Mud mortar-Stone/Brick   \n",
       "762103                18                   Flat  Mud mortar-Stone/Brick   \n",
       "762104                18                   Flat  Mud mortar-Stone/Brick   \n",
       "762105                18                   Flat  Mud mortar-Stone/Brick   \n",
       "\n",
       "                       roof_type ground_floor_type   other_floor_type  \\\n",
       "1       Bamboo/Timber-Light roof               Mud     Not applicable   \n",
       "6       Bamboo/Timber-Light roof               Mud     Not applicable   \n",
       "39      Bamboo/Timber-Light roof               Mud     Not applicable   \n",
       "44      Bamboo/Timber-Light roof               Mud  TImber/Bamboo-Mud   \n",
       "61      Bamboo/Timber-Light roof               Mud  TImber/Bamboo-Mud   \n",
       "...                          ...               ...                ...   \n",
       "762101  Bamboo/Timber-Heavy roof               Mud      Timber-Planck   \n",
       "762102  Bamboo/Timber-Heavy roof               Mud      Timber-Planck   \n",
       "762103  Bamboo/Timber-Heavy roof               Mud      Timber-Planck   \n",
       "762104  Bamboo/Timber-Heavy roof               Mud      Timber-Planck   \n",
       "762105  Bamboo/Timber-Heavy roof               Mud      Timber-Planck   \n",
       "\n",
       "               position  ... has_superstructure_stone_flag  \\\n",
       "1          Not attached  ...                             0   \n",
       "6          Not attached  ...                             0   \n",
       "39         Not attached  ...                             0   \n",
       "44         Not attached  ...                             0   \n",
       "61         Not attached  ...                             0   \n",
       "...                 ...  ...                           ...   \n",
       "762101  Attached-2 side  ...                             0   \n",
       "762102  Attached-1 side  ...                             0   \n",
       "762103     Not attached  ...                             0   \n",
       "762104     Not attached  ...                             0   \n",
       "762105     Not attached  ...                             0   \n",
       "\n",
       "        has_superstructure_cement_mortar_stone  \\\n",
       "1                                            0   \n",
       "6                                            0   \n",
       "39                                           0   \n",
       "44                                           0   \n",
       "61                                           0   \n",
       "...                                        ...   \n",
       "762101                                       0   \n",
       "762102                                       0   \n",
       "762103                                       0   \n",
       "762104                                       0   \n",
       "762105                                       0   \n",
       "\n",
       "        has_superstructure_mud_mortar_brick  \\\n",
       "1                                         0   \n",
       "6                                         0   \n",
       "39                                        0   \n",
       "44                                        0   \n",
       "61                                        0   \n",
       "...                                     ...   \n",
       "762101                                    0   \n",
       "762102                                    0   \n",
       "762103                                    0   \n",
       "762104                                    0   \n",
       "762105                                    0   \n",
       "\n",
       "        has_superstructure_cement_mortar_brick  has_superstructure_timber  \\\n",
       "1                                            0                          0   \n",
       "6                                            0                          0   \n",
       "39                                           0                          0   \n",
       "44                                           0                          0   \n",
       "61                                           0                          0   \n",
       "...                                        ...                        ...   \n",
       "762101                                       0                          0   \n",
       "762102                                       0                          0   \n",
       "762103                                       0                          0   \n",
       "762104                                       0                          0   \n",
       "762105                                       0                          0   \n",
       "\n",
       "        has_superstructure_bamboo  has_superstructure_rc_non_engineered  \\\n",
       "1                               1                                     0   \n",
       "6                               0                                     0   \n",
       "39                              0                                     0   \n",
       "44                              0                                     0   \n",
       "61                              0                                     0   \n",
       "...                           ...                                   ...   \n",
       "762101                          0                                     0   \n",
       "762102                          0                                     0   \n",
       "762103                          0                                     0   \n",
       "762104                          0                                     0   \n",
       "762105                          0                                     0   \n",
       "\n",
       "        has_superstructure_rc_engineered  has_superstructure_other  \\\n",
       "1                                      0                         0   \n",
       "6                                      0                         0   \n",
       "39                                     0                         0   \n",
       "44                                     0                         0   \n",
       "61                                     0                         0   \n",
       "...                                  ...                       ...   \n",
       "762101                                 0                         0   \n",
       "762102                                 0                         0   \n",
       "762103                                 0                         0   \n",
       "762104                                 0                         0   \n",
       "762105                                 0                         0   \n",
       "\n",
       "        damage_grade  \n",
       "1            Grade 5  \n",
       "6            Grade 5  \n",
       "39           Grade 5  \n",
       "44           Grade 5  \n",
       "61           Grade 5  \n",
       "...              ...  \n",
       "762101       Grade 5  \n",
       "762102       Grade 5  \n",
       "762103       Grade 5  \n",
       "762104       Grade 5  \n",
       "762105       Grade 5  \n",
       "\n",
       "[275766 rows x 23 columns]"
      ]
     },
     "execution_count": 18,
     "metadata": {},
     "output_type": "execute_result"
    }
   ],
   "source": [
    "clean_df[clean_df['damage_grade'] > 'Grade 4']"
   ]
  },
  {
   "cell_type": "code",
   "execution_count": 19,
   "id": "ac91e3cb",
   "metadata": {},
   "outputs": [],
   "source": [
    "clean_df.loc[clean_df['damage_grade'] > 'Grade 3', 'severe_damage'] = 1 # signifying true for Severe damage"
   ]
  },
  {
   "cell_type": "code",
   "execution_count": 20,
   "id": "531b76f1",
   "metadata": {},
   "outputs": [],
   "source": [
    "clean_df.loc[clean_df['damage_grade'] <= 'Grade 3', 'severe_damage'] = 0 # signifying false for Severe damage"
   ]
  },
  {
   "cell_type": "code",
   "execution_count": 21,
   "id": "1c716765",
   "metadata": {},
   "outputs": [
    {
     "data": {
      "text/plain": [
       "1.0    459610\n",
       "0.0    302484\n",
       "Name: severe_damage, dtype: int64"
      ]
     },
     "execution_count": 21,
     "metadata": {},
     "output_type": "execute_result"
    }
   ],
   "source": [
    "clean_df['severe_damage'].value_counts()"
   ]
  },
  {
   "cell_type": "code",
   "execution_count": 22,
   "id": "809ba4c0",
   "metadata": {},
   "outputs": [],
   "source": [
    "assert clean_df.shape[0] == 459610 + 302484"
   ]
  },
  {
   "cell_type": "code",
   "execution_count": 23,
   "id": "697d39e3",
   "metadata": {},
   "outputs": [],
   "source": [
    "clean_df.drop(columns=['damage_grade'], inplace=True) # drop damage grade since we now have the bolean severe damage target variable"
   ]
  },
  {
   "cell_type": "code",
   "execution_count": 24,
   "id": "619e8c2d",
   "metadata": {},
   "outputs": [],
   "source": [
    "clean_df['severe_damage'] = clean_df['severe_damage'].astype('int')"
   ]
  },
  {
   "cell_type": "code",
   "execution_count": 25,
   "id": "b79e19b6",
   "metadata": {},
   "outputs": [
    {
     "data": {
      "text/html": [
       "<div>\n",
       "<style scoped>\n",
       "    .dataframe tbody tr th:only-of-type {\n",
       "        vertical-align: middle;\n",
       "    }\n",
       "\n",
       "    .dataframe tbody tr th {\n",
       "        vertical-align: top;\n",
       "    }\n",
       "\n",
       "    .dataframe thead th {\n",
       "        text-align: right;\n",
       "    }\n",
       "</style>\n",
       "<table border=\"1\" class=\"dataframe\">\n",
       "  <thead>\n",
       "    <tr style=\"text-align: right;\">\n",
       "      <th></th>\n",
       "      <th>count_floors_pre_eq</th>\n",
       "      <th>age_building</th>\n",
       "      <th>plinth_area_sq_ft</th>\n",
       "      <th>height_ft_pre_eq</th>\n",
       "      <th>land_surface_condition</th>\n",
       "      <th>foundation_type</th>\n",
       "      <th>roof_type</th>\n",
       "      <th>ground_floor_type</th>\n",
       "      <th>other_floor_type</th>\n",
       "      <th>position</th>\n",
       "      <th>...</th>\n",
       "      <th>has_superstructure_stone_flag</th>\n",
       "      <th>has_superstructure_cement_mortar_stone</th>\n",
       "      <th>has_superstructure_mud_mortar_brick</th>\n",
       "      <th>has_superstructure_cement_mortar_brick</th>\n",
       "      <th>has_superstructure_timber</th>\n",
       "      <th>has_superstructure_bamboo</th>\n",
       "      <th>has_superstructure_rc_non_engineered</th>\n",
       "      <th>has_superstructure_rc_engineered</th>\n",
       "      <th>has_superstructure_other</th>\n",
       "      <th>severe_damage</th>\n",
       "    </tr>\n",
       "  </thead>\n",
       "  <tbody>\n",
       "    <tr>\n",
       "      <th>0</th>\n",
       "      <td>1</td>\n",
       "      <td>9</td>\n",
       "      <td>288</td>\n",
       "      <td>9</td>\n",
       "      <td>Flat</td>\n",
       "      <td>Other</td>\n",
       "      <td>Bamboo/Timber-Light roof</td>\n",
       "      <td>Mud</td>\n",
       "      <td>Not applicable</td>\n",
       "      <td>Not attached</td>\n",
       "      <td>...</td>\n",
       "      <td>0</td>\n",
       "      <td>0</td>\n",
       "      <td>0</td>\n",
       "      <td>0</td>\n",
       "      <td>0</td>\n",
       "      <td>1</td>\n",
       "      <td>0</td>\n",
       "      <td>0</td>\n",
       "      <td>0</td>\n",
       "      <td>0</td>\n",
       "    </tr>\n",
       "    <tr>\n",
       "      <th>1</th>\n",
       "      <td>1</td>\n",
       "      <td>15</td>\n",
       "      <td>364</td>\n",
       "      <td>9</td>\n",
       "      <td>Flat</td>\n",
       "      <td>Other</td>\n",
       "      <td>Bamboo/Timber-Light roof</td>\n",
       "      <td>Mud</td>\n",
       "      <td>Not applicable</td>\n",
       "      <td>Not attached</td>\n",
       "      <td>...</td>\n",
       "      <td>0</td>\n",
       "      <td>0</td>\n",
       "      <td>0</td>\n",
       "      <td>0</td>\n",
       "      <td>0</td>\n",
       "      <td>1</td>\n",
       "      <td>0</td>\n",
       "      <td>0</td>\n",
       "      <td>0</td>\n",
       "      <td>1</td>\n",
       "    </tr>\n",
       "    <tr>\n",
       "      <th>2</th>\n",
       "      <td>1</td>\n",
       "      <td>20</td>\n",
       "      <td>384</td>\n",
       "      <td>9</td>\n",
       "      <td>Flat</td>\n",
       "      <td>Other</td>\n",
       "      <td>Bamboo/Timber-Light roof</td>\n",
       "      <td>Mud</td>\n",
       "      <td>Not applicable</td>\n",
       "      <td>Not attached</td>\n",
       "      <td>...</td>\n",
       "      <td>0</td>\n",
       "      <td>0</td>\n",
       "      <td>0</td>\n",
       "      <td>0</td>\n",
       "      <td>0</td>\n",
       "      <td>0</td>\n",
       "      <td>0</td>\n",
       "      <td>0</td>\n",
       "      <td>0</td>\n",
       "      <td>0</td>\n",
       "    </tr>\n",
       "    <tr>\n",
       "      <th>3</th>\n",
       "      <td>1</td>\n",
       "      <td>20</td>\n",
       "      <td>312</td>\n",
       "      <td>9</td>\n",
       "      <td>Flat</td>\n",
       "      <td>Other</td>\n",
       "      <td>Bamboo/Timber-Light roof</td>\n",
       "      <td>Mud</td>\n",
       "      <td>Not applicable</td>\n",
       "      <td>Not attached</td>\n",
       "      <td>...</td>\n",
       "      <td>0</td>\n",
       "      <td>0</td>\n",
       "      <td>0</td>\n",
       "      <td>0</td>\n",
       "      <td>0</td>\n",
       "      <td>0</td>\n",
       "      <td>0</td>\n",
       "      <td>0</td>\n",
       "      <td>0</td>\n",
       "      <td>0</td>\n",
       "    </tr>\n",
       "    <tr>\n",
       "      <th>4</th>\n",
       "      <td>1</td>\n",
       "      <td>30</td>\n",
       "      <td>308</td>\n",
       "      <td>9</td>\n",
       "      <td>Flat</td>\n",
       "      <td>Other</td>\n",
       "      <td>Bamboo/Timber-Light roof</td>\n",
       "      <td>Mud</td>\n",
       "      <td>Not applicable</td>\n",
       "      <td>Not attached</td>\n",
       "      <td>...</td>\n",
       "      <td>0</td>\n",
       "      <td>0</td>\n",
       "      <td>0</td>\n",
       "      <td>0</td>\n",
       "      <td>0</td>\n",
       "      <td>0</td>\n",
       "      <td>0</td>\n",
       "      <td>0</td>\n",
       "      <td>0</td>\n",
       "      <td>0</td>\n",
       "    </tr>\n",
       "  </tbody>\n",
       "</table>\n",
       "<p>5 rows × 23 columns</p>\n",
       "</div>"
      ],
      "text/plain": [
       "   count_floors_pre_eq  age_building  plinth_area_sq_ft  height_ft_pre_eq  \\\n",
       "0                    1             9                288                 9   \n",
       "1                    1            15                364                 9   \n",
       "2                    1            20                384                 9   \n",
       "3                    1            20                312                 9   \n",
       "4                    1            30                308                 9   \n",
       "\n",
       "  land_surface_condition foundation_type                 roof_type  \\\n",
       "0                   Flat           Other  Bamboo/Timber-Light roof   \n",
       "1                   Flat           Other  Bamboo/Timber-Light roof   \n",
       "2                   Flat           Other  Bamboo/Timber-Light roof   \n",
       "3                   Flat           Other  Bamboo/Timber-Light roof   \n",
       "4                   Flat           Other  Bamboo/Timber-Light roof   \n",
       "\n",
       "  ground_floor_type other_floor_type      position  ...  \\\n",
       "0               Mud   Not applicable  Not attached  ...   \n",
       "1               Mud   Not applicable  Not attached  ...   \n",
       "2               Mud   Not applicable  Not attached  ...   \n",
       "3               Mud   Not applicable  Not attached  ...   \n",
       "4               Mud   Not applicable  Not attached  ...   \n",
       "\n",
       "  has_superstructure_stone_flag  has_superstructure_cement_mortar_stone  \\\n",
       "0                             0                                       0   \n",
       "1                             0                                       0   \n",
       "2                             0                                       0   \n",
       "3                             0                                       0   \n",
       "4                             0                                       0   \n",
       "\n",
       "   has_superstructure_mud_mortar_brick  \\\n",
       "0                                    0   \n",
       "1                                    0   \n",
       "2                                    0   \n",
       "3                                    0   \n",
       "4                                    0   \n",
       "\n",
       "   has_superstructure_cement_mortar_brick  has_superstructure_timber  \\\n",
       "0                                       0                          0   \n",
       "1                                       0                          0   \n",
       "2                                       0                          0   \n",
       "3                                       0                          0   \n",
       "4                                       0                          0   \n",
       "\n",
       "   has_superstructure_bamboo  has_superstructure_rc_non_engineered  \\\n",
       "0                          1                                     0   \n",
       "1                          1                                     0   \n",
       "2                          0                                     0   \n",
       "3                          0                                     0   \n",
       "4                          0                                     0   \n",
       "\n",
       "   has_superstructure_rc_engineered  has_superstructure_other  severe_damage  \n",
       "0                                 0                         0              0  \n",
       "1                                 0                         0              1  \n",
       "2                                 0                         0              0  \n",
       "3                                 0                         0              0  \n",
       "4                                 0                         0              0  \n",
       "\n",
       "[5 rows x 23 columns]"
      ]
     },
     "execution_count": 25,
     "metadata": {},
     "output_type": "execute_result"
    }
   ],
   "source": [
    "clean_df.head()"
   ]
  },
  {
   "cell_type": "markdown",
   "id": "17fb79f0",
   "metadata": {},
   "source": [
    "## Remove columns with multicollinearity"
   ]
  },
  {
   "cell_type": "code",
   "execution_count": 26,
   "id": "d806607c",
   "metadata": {},
   "outputs": [
    {
     "data": {
      "text/plain": [
       "0.16904872399965754"
      ]
     },
     "execution_count": 26,
     "metadata": {},
     "output_type": "execute_result"
    }
   ],
   "source": [
    "clean_df['severe_damage'].corr(clean_df['count_floors_pre_eq'])\n",
    "# has way more effect on the target variable hence important to keep"
   ]
  },
  {
   "cell_type": "code",
   "execution_count": 27,
   "id": "5b0fbe73",
   "metadata": {},
   "outputs": [
    {
     "data": {
      "text/plain": [
       "0.04911364038144871"
      ]
     },
     "execution_count": 27,
     "metadata": {},
     "output_type": "execute_result"
    }
   ],
   "source": [
    "clean_df['severe_damage'].corr(clean_df['height_ft_pre_eq'])"
   ]
  },
  {
   "cell_type": "code",
   "execution_count": 28,
   "id": "9afcae0b",
   "metadata": {},
   "outputs": [
    {
     "data": {
      "text/plain": [
       "-0.10231412644880877"
      ]
     },
     "execution_count": 28,
     "metadata": {},
     "output_type": "execute_result"
    }
   ],
   "source": [
    "clean_df['severe_damage'].corr(clean_df['has_superstructure_bamboo'])"
   ]
  },
  {
   "cell_type": "code",
   "execution_count": 29,
   "id": "48405152",
   "metadata": {},
   "outputs": [
    {
     "data": {
      "text/plain": [
       "-0.1027526329853448"
      ]
     },
     "execution_count": 29,
     "metadata": {},
     "output_type": "execute_result"
    }
   ],
   "source": [
    "clean_df['severe_damage'].corr(clean_df['has_superstructure_timber']) \n",
    "# slightly has more effect on the target variable hence important to keep "
   ]
  },
  {
   "cell_type": "code",
   "execution_count": 30,
   "id": "04d4826f",
   "metadata": {},
   "outputs": [
    {
     "data": {
      "image/png": "[encoded data removed]",
      "text/plain": [
       "<Figure size 640x480 with 1 Axes>"
      ]
     },
     "metadata": {},
     "output_type": "display_data"
    }
   ],
   "source": [
    "sns.boxplot(x='severe_damage', y='count_floors_pre_eq', data=clean_df)\n",
    "plt.title('Distribution of Building Height by Class')\n",
    "plt.ylabel('Count of Floors Pre-Earthquake')\n",
    "plt.xlabel('Severe Damage');"
   ]
  },
  {
   "cell_type": "code",
   "execution_count": 31,
   "id": "911f2d59",
   "metadata": {},
   "outputs": [
    {
     "data": {
      "image/png": "[encoded data removed]",
      "text/plain": [
       "<Figure size 640x480 with 1 Axes>"
      ]
     },
     "metadata": {},
     "output_type": "display_data"
    }
   ],
   "source": [
    "plt.scatter(clean_df['severe_damage'], clean_df['count_floors_pre_eq']);"
   ]
  },
  {
   "cell_type": "code",
   "execution_count": 32,
   "id": "9db315a0",
   "metadata": {},
   "outputs": [],
   "source": [
    "# Outliers are not good for regression"
   ]
  },
  {
   "cell_type": "code",
   "execution_count": 33,
   "id": "b943b0ea",
   "metadata": {},
   "outputs": [
    {
     "data": {
      "image/png": "[encoded data removed]",
      "text/plain": [
       "<Figure size 640x480 with 1 Axes>"
      ]
     },
     "metadata": {},
     "output_type": "display_data"
    }
   ],
   "source": [
    "sns.boxplot(x='severe_damage', y='has_superstructure_timber', data=clean_df)\n",
    "plt.title('Distribution of Building Height by Class')\n",
    "plt.ylabel('Height Pre-earthquake [ft]')\n",
    "plt.xlabel('Severe Damage');"
   ]
  },
  {
   "cell_type": "code",
   "execution_count": 34,
   "id": "bdb2af9b",
   "metadata": {},
   "outputs": [
    {
     "data": {
      "image/png": "[encoded data removed]",
      "text/plain": [
       "<Figure size 640x480 with 1 Axes>"
      ]
     },
     "metadata": {},
     "output_type": "display_data"
    }
   ],
   "source": [
    "plt.scatter(clean_df['has_superstructure_timber'], clean_df['severe_damage']);\n",
    "# may need to collapse the superstructure column into and code each type uniquely"
   ]
  },
  {
   "cell_type": "code",
   "execution_count": 35,
   "id": "4841dbbe",
   "metadata": {},
   "outputs": [
    {
     "data": {
      "image/png": "[encoded data removed]",
      "text/plain": [
       "<Figure size 640x480 with 1 Axes>"
      ]
     },
     "metadata": {},
     "output_type": "display_data"
    }
   ],
   "source": [
    "clean_df['severe_damage'].value_counts(normalize=True).plot(\n",
    "    kind='bar',\n",
    "    color=['C0', 'C1']\n",
    ");"
   ]
  },
  {
   "cell_type": "code",
   "execution_count": null,
   "id": "2bfc7fb6",
   "metadata": {},
   "outputs": [],
   "source": []
  },
  {
   "cell_type": "code",
   "execution_count": 36,
   "id": "c4186875",
   "metadata": {},
   "outputs": [],
   "source": [
    "foundation_pivot = pd.pivot_table(clean_df, \n",
    "                                  index='foundation_type', \n",
    "                                  values='severe_damage', \n",
    "                                  aggfunc=np.mean\n",
    "                                 ).sort_values(by='severe_damage')"
   ]
  },
  {
   "cell_type": "code",
   "execution_count": 37,
   "id": "dd36883b",
   "metadata": {
    "scrolled": false
   },
   "outputs": [
    {
     "data": {
      "text/html": [
       "<div>\n",
       "<style scoped>\n",
       "    .dataframe tbody tr th:only-of-type {\n",
       "        vertical-align: middle;\n",
       "    }\n",
       "\n",
       "    .dataframe tbody tr th {\n",
       "        vertical-align: top;\n",
       "    }\n",
       "\n",
       "    .dataframe thead th {\n",
       "        text-align: right;\n",
       "    }\n",
       "</style>\n",
       "<table border=\"1\" class=\"dataframe\">\n",
       "  <thead>\n",
       "    <tr style=\"text-align: right;\">\n",
       "      <th></th>\n",
       "      <th>severe_damage</th>\n",
       "    </tr>\n",
       "    <tr>\n",
       "      <th>foundation_type</th>\n",
       "      <th></th>\n",
       "    </tr>\n",
       "  </thead>\n",
       "  <tbody>\n",
       "    <tr>\n",
       "      <th>RC</th>\n",
       "      <td>0.038263</td>\n",
       "    </tr>\n",
       "    <tr>\n",
       "      <th>Bamboo/Timber</th>\n",
       "      <td>0.237855</td>\n",
       "    </tr>\n",
       "    <tr>\n",
       "      <th>Cement-Stone/Brick</th>\n",
       "      <td>0.296904</td>\n",
       "    </tr>\n",
       "    <tr>\n",
       "      <th>Other</th>\n",
       "      <td>0.510545</td>\n",
       "    </tr>\n",
       "    <tr>\n",
       "      <th>Mud mortar-Stone/Brick</th>\n",
       "      <td>0.685115</td>\n",
       "    </tr>\n",
       "  </tbody>\n",
       "</table>\n",
       "</div>"
      ],
      "text/plain": [
       "                        severe_damage\n",
       "foundation_type                      \n",
       "RC                           0.038263\n",
       "Bamboo/Timber                0.237855\n",
       "Cement-Stone/Brick           0.296904\n",
       "Other                        0.510545\n",
       "Mud mortar-Stone/Brick       0.685115"
      ]
     },
     "execution_count": 37,
     "metadata": {},
     "output_type": "execute_result"
    }
   ],
   "source": [
    "foundation_pivot"
   ]
  },
  {
   "cell_type": "code",
   "execution_count": 38,
   "id": "8be8c860",
   "metadata": {},
   "outputs": [
    {
     "data": {
      "text/html": [
       "<div>\n",
       "<style scoped>\n",
       "    .dataframe tbody tr th:only-of-type {\n",
       "        vertical-align: middle;\n",
       "    }\n",
       "\n",
       "    .dataframe tbody tr th {\n",
       "        vertical-align: top;\n",
       "    }\n",
       "\n",
       "    .dataframe thead th {\n",
       "        text-align: right;\n",
       "    }\n",
       "</style>\n",
       "<table border=\"1\" class=\"dataframe\">\n",
       "  <thead>\n",
       "    <tr style=\"text-align: right;\">\n",
       "      <th></th>\n",
       "      <th>severe_damage</th>\n",
       "    </tr>\n",
       "    <tr>\n",
       "      <th>foundation_type</th>\n",
       "      <th></th>\n",
       "    </tr>\n",
       "  </thead>\n",
       "  <tbody>\n",
       "    <tr>\n",
       "      <th>RC</th>\n",
       "      <td>0.038263</td>\n",
       "    </tr>\n",
       "    <tr>\n",
       "      <th>Bamboo/Timber</th>\n",
       "      <td>0.237855</td>\n",
       "    </tr>\n",
       "    <tr>\n",
       "      <th>Cement-Stone/Brick</th>\n",
       "      <td>0.296904</td>\n",
       "    </tr>\n",
       "    <tr>\n",
       "      <th>Other</th>\n",
       "      <td>0.510545</td>\n",
       "    </tr>\n",
       "    <tr>\n",
       "      <th>Mud mortar-Stone/Brick</th>\n",
       "      <td>0.685115</td>\n",
       "    </tr>\n",
       "  </tbody>\n",
       "</table>\n",
       "</div>"
      ],
      "text/plain": [
       "                        severe_damage\n",
       "foundation_type                      \n",
       "RC                           0.038263\n",
       "Bamboo/Timber                0.237855\n",
       "Cement-Stone/Brick           0.296904\n",
       "Other                        0.510545\n",
       "Mud mortar-Stone/Brick       0.685115"
      ]
     },
     "execution_count": 38,
     "metadata": {},
     "output_type": "execute_result"
    }
   ],
   "source": [
    "foundation_pivot"
   ]
  },
  {
   "cell_type": "code",
   "execution_count": 39,
   "id": "5d6ce01d",
   "metadata": {},
   "outputs": [],
   "source": [
    "majority_class_prop, mainority_class_prop = clean_df['severe_damage'].value_counts(normalize=True)"
   ]
  },
  {
   "cell_type": "code",
   "execution_count": 40,
   "id": "1626e924",
   "metadata": {},
   "outputs": [
    {
     "data": {
      "image/png": "[encoded data removed]",
      "text/plain": [
       "<Figure size 640x480 with 1 Axes>"
      ]
     },
     "metadata": {},
     "output_type": "display_data"
    }
   ],
   "source": [
    "foundation_pivot.plot(kind='barh')\n",
    "plt.axvline(majority_class_prop, linestyle='--', color='red')\n",
    "plt.axvline(mainority_class_prop, linestyle='--', color='green')\n",
    "plt.legend(loc='lower right');"
   ]
  },
  {
   "cell_type": "code",
   "execution_count": 41,
   "id": "8ac1d5ef",
   "metadata": {},
   "outputs": [],
   "source": [
    "# Hi lo cardinaltiy categorical values"
   ]
  },
  {
   "cell_type": "code",
   "execution_count": 42,
   "id": "fff45df2",
   "metadata": {},
   "outputs": [
    {
     "data": {
      "text/plain": [
       "land_surface_condition     3\n",
       "foundation_type            5\n",
       "roof_type                  3\n",
       "ground_floor_type          5\n",
       "other_floor_type           4\n",
       "position                   4\n",
       "plan_configuration        10\n",
       "dtype: int64"
      ]
     },
     "execution_count": 42,
     "metadata": {},
     "output_type": "execute_result"
    }
   ],
   "source": [
    "clean_df.select_dtypes('object').nunique()"
   ]
  },
  {
   "cell_type": "code",
   "execution_count": 43,
   "id": "4b60003b",
   "metadata": {},
   "outputs": [],
   "source": [
    "target = 'severe_damage'\n",
    "X = clean_df.drop(columns=target)\n",
    "y = clean_df[target]"
   ]
  },
  {
   "cell_type": "code",
   "execution_count": 44,
   "id": "c73bac08",
   "metadata": {},
   "outputs": [],
   "source": [
    "scaler = MinMaxScaler()"
   ]
  },
  {
   "cell_type": "code",
   "execution_count": 46,
   "id": "bf886d67",
   "metadata": {},
   "outputs": [],
   "source": [
    "enc = OneHotEncoder(use_cat_names=True)"
   ]
  },
  {
   "cell_type": "code",
   "execution_count": 47,
   "id": "3bbf9e37",
   "metadata": {},
   "outputs": [
    {
     "data": {
      "text/html": [
       "<div>\n",
       "<style scoped>\n",
       "    .dataframe tbody tr th:only-of-type {\n",
       "        vertical-align: middle;\n",
       "    }\n",
       "\n",
       "    .dataframe tbody tr th {\n",
       "        vertical-align: top;\n",
       "    }\n",
       "\n",
       "    .dataframe thead th {\n",
       "        text-align: right;\n",
       "    }\n",
       "</style>\n",
       "<table border=\"1\" class=\"dataframe\">\n",
       "  <thead>\n",
       "    <tr style=\"text-align: right;\">\n",
       "      <th></th>\n",
       "      <th>count_floors_pre_eq</th>\n",
       "      <th>age_building</th>\n",
       "      <th>plinth_area_sq_ft</th>\n",
       "      <th>height_ft_pre_eq</th>\n",
       "      <th>land_surface_condition_Flat</th>\n",
       "      <th>land_surface_condition_Moderate slope</th>\n",
       "      <th>land_surface_condition_Steep slope</th>\n",
       "      <th>foundation_type_Other</th>\n",
       "      <th>foundation_type_Mud mortar-Stone/Brick</th>\n",
       "      <th>foundation_type_Cement-Stone/Brick</th>\n",
       "      <th>...</th>\n",
       "      <th>has_superstructure_mud_mortar_stone</th>\n",
       "      <th>has_superstructure_stone_flag</th>\n",
       "      <th>has_superstructure_cement_mortar_stone</th>\n",
       "      <th>has_superstructure_mud_mortar_brick</th>\n",
       "      <th>has_superstructure_cement_mortar_brick</th>\n",
       "      <th>has_superstructure_timber</th>\n",
       "      <th>has_superstructure_bamboo</th>\n",
       "      <th>has_superstructure_rc_non_engineered</th>\n",
       "      <th>has_superstructure_rc_engineered</th>\n",
       "      <th>has_superstructure_other</th>\n",
       "    </tr>\n",
       "  </thead>\n",
       "  <tbody>\n",
       "    <tr>\n",
       "      <th>0</th>\n",
       "      <td>1</td>\n",
       "      <td>9</td>\n",
       "      <td>288</td>\n",
       "      <td>9</td>\n",
       "      <td>1</td>\n",
       "      <td>0</td>\n",
       "      <td>0</td>\n",
       "      <td>1</td>\n",
       "      <td>0</td>\n",
       "      <td>0</td>\n",
       "      <td>...</td>\n",
       "      <td>1</td>\n",
       "      <td>0</td>\n",
       "      <td>0</td>\n",
       "      <td>0</td>\n",
       "      <td>0</td>\n",
       "      <td>0</td>\n",
       "      <td>1</td>\n",
       "      <td>0</td>\n",
       "      <td>0</td>\n",
       "      <td>0</td>\n",
       "    </tr>\n",
       "    <tr>\n",
       "      <th>1</th>\n",
       "      <td>1</td>\n",
       "      <td>15</td>\n",
       "      <td>364</td>\n",
       "      <td>9</td>\n",
       "      <td>1</td>\n",
       "      <td>0</td>\n",
       "      <td>0</td>\n",
       "      <td>1</td>\n",
       "      <td>0</td>\n",
       "      <td>0</td>\n",
       "      <td>...</td>\n",
       "      <td>1</td>\n",
       "      <td>0</td>\n",
       "      <td>0</td>\n",
       "      <td>0</td>\n",
       "      <td>0</td>\n",
       "      <td>0</td>\n",
       "      <td>1</td>\n",
       "      <td>0</td>\n",
       "      <td>0</td>\n",
       "      <td>0</td>\n",
       "    </tr>\n",
       "    <tr>\n",
       "      <th>2</th>\n",
       "      <td>1</td>\n",
       "      <td>20</td>\n",
       "      <td>384</td>\n",
       "      <td>9</td>\n",
       "      <td>1</td>\n",
       "      <td>0</td>\n",
       "      <td>0</td>\n",
       "      <td>1</td>\n",
       "      <td>0</td>\n",
       "      <td>0</td>\n",
       "      <td>...</td>\n",
       "      <td>1</td>\n",
       "      <td>0</td>\n",
       "      <td>0</td>\n",
       "      <td>0</td>\n",
       "      <td>0</td>\n",
       "      <td>0</td>\n",
       "      <td>0</td>\n",
       "      <td>0</td>\n",
       "      <td>0</td>\n",
       "      <td>0</td>\n",
       "    </tr>\n",
       "    <tr>\n",
       "      <th>3</th>\n",
       "      <td>1</td>\n",
       "      <td>20</td>\n",
       "      <td>312</td>\n",
       "      <td>9</td>\n",
       "      <td>1</td>\n",
       "      <td>0</td>\n",
       "      <td>0</td>\n",
       "      <td>1</td>\n",
       "      <td>0</td>\n",
       "      <td>0</td>\n",
       "      <td>...</td>\n",
       "      <td>1</td>\n",
       "      <td>0</td>\n",
       "      <td>0</td>\n",
       "      <td>0</td>\n",
       "      <td>0</td>\n",
       "      <td>0</td>\n",
       "      <td>0</td>\n",
       "      <td>0</td>\n",
       "      <td>0</td>\n",
       "      <td>0</td>\n",
       "    </tr>\n",
       "    <tr>\n",
       "      <th>4</th>\n",
       "      <td>1</td>\n",
       "      <td>30</td>\n",
       "      <td>308</td>\n",
       "      <td>9</td>\n",
       "      <td>1</td>\n",
       "      <td>0</td>\n",
       "      <td>0</td>\n",
       "      <td>1</td>\n",
       "      <td>0</td>\n",
       "      <td>0</td>\n",
       "      <td>...</td>\n",
       "      <td>1</td>\n",
       "      <td>0</td>\n",
       "      <td>0</td>\n",
       "      <td>0</td>\n",
       "      <td>0</td>\n",
       "      <td>0</td>\n",
       "      <td>0</td>\n",
       "      <td>0</td>\n",
       "      <td>0</td>\n",
       "      <td>0</td>\n",
       "    </tr>\n",
       "  </tbody>\n",
       "</table>\n",
       "<p>5 rows × 49 columns</p>\n",
       "</div>"
      ],
      "text/plain": [
       "   count_floors_pre_eq  age_building  plinth_area_sq_ft  height_ft_pre_eq  \\\n",
       "0                    1             9                288                 9   \n",
       "1                    1            15                364                 9   \n",
       "2                    1            20                384                 9   \n",
       "3                    1            20                312                 9   \n",
       "4                    1            30                308                 9   \n",
       "\n",
       "   land_surface_condition_Flat  land_surface_condition_Moderate slope  \\\n",
       "0                            1                                      0   \n",
       "1                            1                                      0   \n",
       "2                            1                                      0   \n",
       "3                            1                                      0   \n",
       "4                            1                                      0   \n",
       "\n",
       "   land_surface_condition_Steep slope  foundation_type_Other  \\\n",
       "0                                   0                      1   \n",
       "1                                   0                      1   \n",
       "2                                   0                      1   \n",
       "3                                   0                      1   \n",
       "4                                   0                      1   \n",
       "\n",
       "   foundation_type_Mud mortar-Stone/Brick  foundation_type_Cement-Stone/Brick  \\\n",
       "0                                       0                                   0   \n",
       "1                                       0                                   0   \n",
       "2                                       0                                   0   \n",
       "3                                       0                                   0   \n",
       "4                                       0                                   0   \n",
       "\n",
       "   ...  has_superstructure_mud_mortar_stone  has_superstructure_stone_flag  \\\n",
       "0  ...                                    1                              0   \n",
       "1  ...                                    1                              0   \n",
       "2  ...                                    1                              0   \n",
       "3  ...                                    1                              0   \n",
       "4  ...                                    1                              0   \n",
       "\n",
       "   has_superstructure_cement_mortar_stone  \\\n",
       "0                                       0   \n",
       "1                                       0   \n",
       "2                                       0   \n",
       "3                                       0   \n",
       "4                                       0   \n",
       "\n",
       "   has_superstructure_mud_mortar_brick  \\\n",
       "0                                    0   \n",
       "1                                    0   \n",
       "2                                    0   \n",
       "3                                    0   \n",
       "4                                    0   \n",
       "\n",
       "   has_superstructure_cement_mortar_brick  has_superstructure_timber  \\\n",
       "0                                       0                          0   \n",
       "1                                       0                          0   \n",
       "2                                       0                          0   \n",
       "3                                       0                          0   \n",
       "4                                       0                          0   \n",
       "\n",
       "   has_superstructure_bamboo  has_superstructure_rc_non_engineered  \\\n",
       "0                          1                                     0   \n",
       "1                          1                                     0   \n",
       "2                          0                                     0   \n",
       "3                          0                                     0   \n",
       "4                          0                                     0   \n",
       "\n",
       "   has_superstructure_rc_engineered  has_superstructure_other  \n",
       "0                                 0                         0  \n",
       "1                                 0                         0  \n",
       "2                                 0                         0  \n",
       "3                                 0                         0  \n",
       "4                                 0                         0  \n",
       "\n",
       "[5 rows x 49 columns]"
      ]
     },
     "execution_count": 47,
     "metadata": {},
     "output_type": "execute_result"
    }
   ],
   "source": [
    "X = enc.fit_transform(X)\n",
    "X.head()"
   ]
  },
  {
   "cell_type": "code",
   "execution_count": 48,
   "id": "8c8c539a",
   "metadata": {},
   "outputs": [],
   "source": [
    "X_scaled = scaler.fit_transform(X) # returns a numpy.ndarray"
   ]
  },
  {
   "cell_type": "code",
   "execution_count": 49,
   "id": "d83db8dd",
   "metadata": {},
   "outputs": [
    {
     "data": {
      "text/plain": [
       "array([[0.        , 0.00900901, 0.04421907, 0.03225806, 1.        ,\n",
       "        0.        , 0.        , 1.        , 0.        , 0.        ,\n",
       "        0.        , 0.        , 1.        , 0.        , 0.        ,\n",
       "        1.        , 0.        , 0.        , 0.        , 0.        ,\n",
       "        1.        , 0.        , 0.        , 0.        , 1.        ,\n",
       "        0.        , 0.        , 0.        , 1.        , 0.        ,\n",
       "        0.        , 0.        , 0.        , 0.        , 0.        ,\n",
       "        0.        , 0.        , 0.        , 0.        , 1.        ,\n",
       "        0.        , 0.        , 0.        , 0.        , 0.        ,\n",
       "        1.        , 0.        , 0.        , 0.        ],\n",
       "       [0.        , 0.01501502, 0.05963489, 0.03225806, 1.        ,\n",
       "        0.        , 0.        , 1.        , 0.        , 0.        ,\n",
       "        0.        , 0.        , 1.        , 0.        , 0.        ,\n",
       "        1.        , 0.        , 0.        , 0.        , 0.        ,\n",
       "        1.        , 0.        , 0.        , 0.        , 1.        ,\n",
       "        0.        , 0.        , 0.        , 1.        , 0.        ,\n",
       "        0.        , 0.        , 0.        , 0.        , 0.        ,\n",
       "        0.        , 0.        , 0.        , 0.        , 1.        ,\n",
       "        0.        , 0.        , 0.        , 0.        , 0.        ,\n",
       "        1.        , 0.        , 0.        , 0.        ]])"
      ]
     },
     "execution_count": 49,
     "metadata": {},
     "output_type": "execute_result"
    }
   ],
   "source": [
    "X_scaled[:2]"
   ]
  },
  {
   "cell_type": "code",
   "execution_count": null,
   "id": "35c2710a",
   "metadata": {},
   "outputs": [],
   "source": []
  },
  {
   "cell_type": "code",
   "execution_count": 50,
   "id": "2b9284bb",
   "metadata": {},
   "outputs": [],
   "source": [
    "X_train, X_test, y_train, y_test = train_test_split(\n",
    "    X_scaled, \n",
    "    y, \n",
    "    test_size=0.2, \n",
    "    random_state=42\n",
    ")"
   ]
  },
  {
   "cell_type": "code",
   "execution_count": 51,
   "id": "136e47d0",
   "metadata": {},
   "outputs": [
    {
     "name": "stdout",
     "output_type": "stream",
     "text": [
      "X_train shape: (609675, 49)\n",
      "y_train shape: (609675,)\n",
      "X_test shape: (152419, 49)\n",
      "y_test shape: (152419,)\n"
     ]
    }
   ],
   "source": [
    "print('X_train shape:', X_train.shape)\n",
    "print('y_train shape:', y_train.shape)\n",
    "print('X_test shape:', X_test.shape)\n",
    "print('y_test shape:', y_test.shape)"
   ]
  },
  {
   "cell_type": "markdown",
   "id": "237c65e6",
   "metadata": {},
   "source": [
    "# Model Building"
   ]
  },
  {
   "cell_type": "markdown",
   "id": "75810530",
   "metadata": {},
   "source": [
    "## Baseline Model"
   ]
  },
  {
   "cell_type": "code",
   "execution_count": 52,
   "id": "30878e2e",
   "metadata": {
    "scrolled": true
   },
   "outputs": [
    {
     "name": "stdout",
     "output_type": "stream",
     "text": [
      "Baseline Accuracy: 0.6\n"
     ]
    }
   ],
   "source": [
    "acc_baseline = y_train.value_counts(normalize=True).max()\n",
    "print('Baseline Accuracy:', round(acc_baseline, 2))"
   ]
  },
  {
   "cell_type": "code",
   "execution_count": null,
   "id": "7d1e6587",
   "metadata": {},
   "outputs": [],
   "source": []
  },
  {
   "cell_type": "code",
   "execution_count": null,
   "id": "291033af",
   "metadata": {},
   "outputs": [],
   "source": []
  },
  {
   "cell_type": "markdown",
   "id": "b47bf53a",
   "metadata": {},
   "source": [
    "## Logistics Regression Model"
   ]
  },
  {
   "cell_type": "code",
   "execution_count": null,
   "id": "67e60209",
   "metadata": {},
   "outputs": [],
   "source": [
    "model = make_pipeline(\n",
    "    OneHotEncoder(use_cat_names=True),\n",
    "    LogisticRegression(max_iter=1000)\n",
    ")"
   ]
  },
  {
   "cell_type": "code",
   "execution_count": 60,
   "id": "2f6e90d0",
   "metadata": {},
   "outputs": [],
   "source": [
    "model = LogisticRegression(max_iter=1000)"
   ]
  },
  {
   "cell_type": "code",
   "execution_count": 61,
   "id": "9c488a46",
   "metadata": {},
   "outputs": [
    {
     "data": {
      "text/plain": [
       "LogisticRegression(max_iter=1000)"
      ]
     },
     "execution_count": 61,
     "metadata": {},
     "output_type": "execute_result"
    }
   ],
   "source": [
    "model.fit(X_train, y_train)"
   ]
  },
  {
   "cell_type": "markdown",
   "id": "51bc21e1",
   "metadata": {},
   "source": [
    "# Model Evaluation"
   ]
  },
  {
   "cell_type": "code",
   "execution_count": 62,
   "id": "2aa46894",
   "metadata": {},
   "outputs": [
    {
     "name": "stdout",
     "output_type": "stream",
     "text": [
      "Training Accuracy: 0.7315504162053553\n",
      "Test Accuracy: 0.7305716478916671\n"
     ]
    }
   ],
   "source": [
    "# two methods of calculating accuracy are demonstrated below\n",
    "\n",
    "acc_train = accuracy_score(y_train, model.predict(X_train))\n",
    "acc_test = model.score(X_test, y_test) # returns accuracy score by default\n",
    "print('Training Accuracy:',acc_train)\n",
    "print('Test Accuracy:', acc_test)"
   ]
  },
  {
   "cell_type": "markdown",
   "id": "a2f4df4c",
   "metadata": {},
   "source": [
    "The Logistic Regression accuracy beats the baseline model accuracy, however, training accuracy is slightly hihger than test accuracy meaning there is a hint of overfitting"
   ]
  },
  {
   "cell_type": "code",
   "execution_count": null,
   "id": "3ddab638",
   "metadata": {},
   "outputs": [],
   "source": [
    "clean_df.head()"
   ]
  },
  {
   "cell_type": "code",
   "execution_count": null,
   "id": "f469e2ef",
   "metadata": {},
   "outputs": [],
   "source": []
  },
  {
   "cell_type": "code",
   "execution_count": null,
   "id": "c7f59c26",
   "metadata": {},
   "outputs": [],
   "source": [
    "clean_df['land_surface_condition'].value_counts()"
   ]
  },
  {
   "cell_type": "code",
   "execution_count": 53,
   "id": "121b9629",
   "metadata": {},
   "outputs": [
    {
     "data": {
      "text/plain": [
       "(609675, 49)"
      ]
     },
     "execution_count": 53,
     "metadata": {},
     "output_type": "execute_result"
    }
   ],
   "source": [
    "X_train.shape"
   ]
  },
  {
   "cell_type": "markdown",
   "id": "e55ee6ab",
   "metadata": {},
   "source": [
    "# Deep Neural Network"
   ]
  },
  {
   "cell_type": "markdown",
   "id": "260d9493",
   "metadata": {},
   "source": [
    "## Model building"
   ]
  },
  {
   "cell_type": "code",
   "execution_count": 54,
   "id": "13d48f14",
   "metadata": {},
   "outputs": [],
   "source": [
    "# create model\n",
    "model_deep = Sequential()\n",
    "model_deep.add(Dense(60, input_shape=(X_train.shape[1],), activation='relu'))\n",
    "model_deep.add(Dense(1, activation='sigmoid'))\n",
    "# Compile model\n",
    "model_deep.compile(loss='binary_crossentropy', optimizer='adam', metrics=['accuracy'])"
   ]
  },
  {
   "cell_type": "code",
   "execution_count": 55,
   "id": "bd0fe5c6",
   "metadata": {},
   "outputs": [
    {
     "name": "stdout",
     "output_type": "stream",
     "text": [
      "Model: \"sequential\"\n",
      "_________________________________________________________________\n",
      " Layer (type)                Output Shape              Param #   \n",
      "=================================================================\n",
      " dense (Dense)               (None, 60)                3000      \n",
      "                                                                 \n",
      " dense_1 (Dense)             (None, 1)                 61        \n",
      "                                                                 \n",
      "=================================================================\n",
      "Total params: 3,061\n",
      "Trainable params: 3,061\n",
      "Non-trainable params: 0\n",
      "_________________________________________________________________\n"
     ]
    }
   ],
   "source": [
    "model_deep.summary()"
   ]
  },
  {
   "cell_type": "code",
   "execution_count": 56,
   "id": "8ceb2d58",
   "metadata": {},
   "outputs": [
    {
     "name": "stdout",
     "output_type": "stream",
     "text": [
      "Epoch 1/50\n",
      "19053/19053 - 43s - loss: 0.5473 - accuracy: 0.7342 - 43s/epoch - 2ms/step\n",
      "Epoch 2/50\n",
      "19053/19053 - 41s - loss: 0.5400 - accuracy: 0.7379 - 41s/epoch - 2ms/step\n",
      "Epoch 3/50\n",
      "19053/19053 - 41s - loss: 0.5375 - accuracy: 0.7385 - 41s/epoch - 2ms/step\n",
      "Epoch 4/50\n",
      "19053/19053 - 41s - loss: 0.5359 - accuracy: 0.7398 - 41s/epoch - 2ms/step\n",
      "Epoch 5/50\n",
      "19053/19053 - 41s - loss: 0.5348 - accuracy: 0.7403 - 41s/epoch - 2ms/step\n",
      "Epoch 6/50\n",
      "19053/19053 - 42s - loss: 0.5338 - accuracy: 0.7408 - 42s/epoch - 2ms/step\n",
      "Epoch 7/50\n",
      "19053/19053 - 41s - loss: 0.5334 - accuracy: 0.7412 - 41s/epoch - 2ms/step\n",
      "Epoch 8/50\n",
      "19053/19053 - 41s - loss: 0.5327 - accuracy: 0.7415 - 41s/epoch - 2ms/step\n",
      "Epoch 9/50\n",
      "19053/19053 - 43s - loss: 0.5323 - accuracy: 0.7418 - 43s/epoch - 2ms/step\n",
      "Epoch 10/50\n",
      "19053/19053 - 47s - loss: 0.5318 - accuracy: 0.7418 - 47s/epoch - 2ms/step\n",
      "Epoch 11/50\n",
      "19053/19053 - 41s - loss: 0.5315 - accuracy: 0.7422 - 41s/epoch - 2ms/step\n",
      "Epoch 12/50\n",
      "19053/19053 - 41s - loss: 0.5313 - accuracy: 0.7424 - 41s/epoch - 2ms/step\n",
      "Epoch 13/50\n",
      "19053/19053 - 43s - loss: 0.5310 - accuracy: 0.7425 - 43s/epoch - 2ms/step\n",
      "Epoch 14/50\n",
      "19053/19053 - 41s - loss: 0.5307 - accuracy: 0.7425 - 41s/epoch - 2ms/step\n",
      "Epoch 15/50\n",
      "19053/19053 - 45s - loss: 0.5305 - accuracy: 0.7426 - 45s/epoch - 2ms/step\n",
      "Epoch 16/50\n",
      "19053/19053 - 50s - loss: 0.5302 - accuracy: 0.7431 - 50s/epoch - 3ms/step\n",
      "Epoch 17/50\n",
      "19053/19053 - 46s - loss: 0.5299 - accuracy: 0.7428 - 46s/epoch - 2ms/step\n",
      "Epoch 18/50\n",
      "19053/19053 - 50s - loss: 0.5298 - accuracy: 0.7427 - 50s/epoch - 3ms/step\n",
      "Epoch 19/50\n",
      "19053/19053 - 49s - loss: 0.5296 - accuracy: 0.7431 - 49s/epoch - 3ms/step\n",
      "Epoch 20/50\n",
      "19053/19053 - 46s - loss: 0.5294 - accuracy: 0.7432 - 46s/epoch - 2ms/step\n",
      "Epoch 21/50\n",
      "19053/19053 - 43s - loss: 0.5293 - accuracy: 0.7433 - 43s/epoch - 2ms/step\n",
      "Epoch 22/50\n",
      "19053/19053 - 42s - loss: 0.5290 - accuracy: 0.7436 - 42s/epoch - 2ms/step\n",
      "Epoch 23/50\n",
      "19053/19053 - 42s - loss: 0.5289 - accuracy: 0.7435 - 42s/epoch - 2ms/step\n",
      "Epoch 24/50\n",
      "19053/19053 - 42s - loss: 0.5287 - accuracy: 0.7433 - 42s/epoch - 2ms/step\n",
      "Epoch 25/50\n",
      "19053/19053 - 42s - loss: 0.5286 - accuracy: 0.7435 - 42s/epoch - 2ms/step\n",
      "Epoch 26/50\n",
      "19053/19053 - 42s - loss: 0.5284 - accuracy: 0.7438 - 42s/epoch - 2ms/step\n",
      "Epoch 27/50\n",
      "19053/19053 - 43s - loss: 0.5283 - accuracy: 0.7437 - 43s/epoch - 2ms/step\n",
      "Epoch 28/50\n",
      "19053/19053 - 47s - loss: 0.5282 - accuracy: 0.7437 - 47s/epoch - 2ms/step\n",
      "Epoch 29/50\n",
      "19053/19053 - 42s - loss: 0.5281 - accuracy: 0.7439 - 42s/epoch - 2ms/step\n",
      "Epoch 30/50\n",
      "19053/19053 - 48s - loss: 0.5280 - accuracy: 0.7438 - 48s/epoch - 3ms/step\n",
      "Epoch 31/50\n",
      "19053/19053 - 44s - loss: 0.5279 - accuracy: 0.7438 - 44s/epoch - 2ms/step\n",
      "Epoch 32/50\n",
      "19053/19053 - 43s - loss: 0.5278 - accuracy: 0.7436 - 43s/epoch - 2ms/step\n",
      "Epoch 33/50\n",
      "19053/19053 - 46s - loss: 0.5277 - accuracy: 0.7440 - 46s/epoch - 2ms/step\n",
      "Epoch 34/50\n",
      "19053/19053 - 42s - loss: 0.5275 - accuracy: 0.7441 - 42s/epoch - 2ms/step\n",
      "Epoch 35/50\n",
      "19053/19053 - 42s - loss: 0.5275 - accuracy: 0.7440 - 42s/epoch - 2ms/step\n",
      "Epoch 36/50\n",
      "19053/19053 - 42s - loss: 0.5275 - accuracy: 0.7442 - 42s/epoch - 2ms/step\n",
      "Epoch 37/50\n",
      "19053/19053 - 42s - loss: 0.5273 - accuracy: 0.7440 - 42s/epoch - 2ms/step\n",
      "Epoch 38/50\n",
      "19053/19053 - 41s - loss: 0.5272 - accuracy: 0.7440 - 41s/epoch - 2ms/step\n",
      "Epoch 39/50\n",
      "19053/19053 - 42s - loss: 0.5272 - accuracy: 0.7443 - 42s/epoch - 2ms/step\n",
      "Epoch 40/50\n",
      "19053/19053 - 42s - loss: 0.5271 - accuracy: 0.7443 - 42s/epoch - 2ms/step\n",
      "Epoch 41/50\n",
      "19053/19053 - 42s - loss: 0.5271 - accuracy: 0.7443 - 42s/epoch - 2ms/step\n",
      "Epoch 42/50\n",
      "19053/19053 - 42s - loss: 0.5270 - accuracy: 0.7441 - 42s/epoch - 2ms/step\n",
      "Epoch 43/50\n",
      "19053/19053 - 42s - loss: 0.5270 - accuracy: 0.7440 - 42s/epoch - 2ms/step\n",
      "Epoch 44/50\n",
      "19053/19053 - 57s - loss: 0.5270 - accuracy: 0.7442 - 57s/epoch - 3ms/step\n",
      "Epoch 45/50\n",
      "19053/19053 - 44s - loss: 0.5269 - accuracy: 0.7443 - 44s/epoch - 2ms/step\n",
      "Epoch 46/50\n",
      "19053/19053 - 41s - loss: 0.5268 - accuracy: 0.7443 - 41s/epoch - 2ms/step\n",
      "Epoch 47/50\n",
      "19053/19053 - 42s - loss: 0.5268 - accuracy: 0.7444 - 42s/epoch - 2ms/step\n",
      "Epoch 48/50\n",
      "19053/19053 - 41s - loss: 0.5268 - accuracy: 0.7444 - 41s/epoch - 2ms/step\n",
      "Epoch 49/50\n",
      "19053/19053 - 43s - loss: 0.5266 - accuracy: 0.7444 - 43s/epoch - 2ms/step\n",
      "Epoch 50/50\n",
      "19053/19053 - 42s - loss: 0.5266 - accuracy: 0.7446 - 42s/epoch - 2ms/step\n"
     ]
    }
   ],
   "source": [
    "history = model_deep.fit(X_train, y_train , verbose=2, epochs=50, batch_size=20, validation_split=0.2) #callbacks=[es]"
   ]
  },
  {
   "cell_type": "code",
   "execution_count": 88,
   "id": "da31a0bd",
   "metadata": {},
   "outputs": [],
   "source": [
    "from keras.models import load_model\n",
    "import os\n",
    "from datetime import datetime"
   ]
  },
  {
   "cell_type": "code",
   "execution_count": 89,
   "id": "a482d86e",
   "metadata": {},
   "outputs": [],
   "source": [
    "folder_name = datetime.now().strftime('%d-%b-%Y')\n",
    "\n",
    "os.makedirs('./saved_models/'+ folder_name) #this code should run once to avoid creating multiple folders"
   ]
  },
  {
   "cell_type": "code",
   "execution_count": 90,
   "id": "1342667e",
   "metadata": {},
   "outputs": [],
   "source": [
    "stamp = datetime.now().strftime('%Y-%m-%d %H.%M.%S')\n",
    "\n",
    "stamp = stamp.replace(' ','_')\n",
    "stamp = stamp.replace('.','_')"
   ]
  },
  {
   "cell_type": "code",
   "execution_count": 93,
   "id": "b8908845",
   "metadata": {},
   "outputs": [],
   "source": [
    "model_deep.save('./saved_models/'+ folder_name + '/model-deep-no-validation'+ stamp + '.h5')"
   ]
  },
  {
   "cell_type": "markdown",
   "id": "f1946279",
   "metadata": {},
   "source": [
    "## Model Evaluation"
   ]
  },
  {
   "cell_type": "code",
   "execution_count": 69,
   "id": "048df648",
   "metadata": {},
   "outputs": [
    {
     "name": "stdout",
     "output_type": "stream",
     "text": [
      "19053/19053 [==============================] - 49s 3ms/step - loss: 0.5257 - accuracy: 0.7449\n"
     ]
    }
   ],
   "source": [
    "model_loss, model_accuracy = model_deep.evaluate(X_train, y_train)"
   ]
  },
  {
   "cell_type": "code",
   "execution_count": 70,
   "id": "9f80ae93",
   "metadata": {},
   "outputs": [
    {
     "name": "stdout",
     "output_type": "stream",
     "text": [
      "Training Accuracy: 0.7448558807373047\n",
      "Training Loss: 0.5256690979003906\n"
     ]
    }
   ],
   "source": [
    "print('Training Accuracy:',model_accuracy)\n",
    "print('Training Loss:',model_loss)"
   ]
  },
  {
   "cell_type": "code",
   "execution_count": null,
   "id": "bcb35d3e",
   "metadata": {},
   "outputs": [],
   "source": []
  },
  {
   "cell_type": "code",
   "execution_count": 71,
   "id": "2e9e9849",
   "metadata": {},
   "outputs": [
    {
     "name": "stdout",
     "output_type": "stream",
     "text": [
      "4764/4764 [==============================] - 13s 3ms/step - loss: 0.5315 - accuracy: 0.7415\n"
     ]
    }
   ],
   "source": [
    "model_loss, model_accuracy = model_deep.evaluate(X_test, y_test)"
   ]
  },
  {
   "cell_type": "code",
   "execution_count": 72,
   "id": "7ca0442a",
   "metadata": {},
   "outputs": [
    {
     "name": "stdout",
     "output_type": "stream",
     "text": [
      "Test Accuracy: 0.7415479421615601\n",
      "Test Loss: 0.5314754843711853\n"
     ]
    }
   ],
   "source": [
    "print('Test Accuracy:',model_accuracy)\n",
    "print('Test Loss:',model_loss)"
   ]
  },
  {
   "cell_type": "code",
   "execution_count": 63,
   "id": "fec048fd",
   "metadata": {},
   "outputs": [
    {
     "name": "stdout",
     "output_type": "stream",
     "text": [
      "4764/4764 [==============================] - 10s 2ms/step\n"
     ]
    },
    {
     "data": {
      "text/plain": [
       "array([[0.37317285],\n",
       "       [0.6929326 ],\n",
       "       [0.92414296],\n",
       "       ...,\n",
       "       [0.79975986],\n",
       "       [0.5799401 ],\n",
       "       [0.44062516]], dtype=float32)"
      ]
     },
     "execution_count": 63,
     "metadata": {},
     "output_type": "execute_result"
    }
   ],
   "source": [
    "model_deep.predict(X_test)"
   ]
  },
  {
   "cell_type": "code",
   "execution_count": 67,
   "id": "daea28ae",
   "metadata": {},
   "outputs": [
    {
     "name": "stdout",
     "output_type": "stream",
     "text": [
      "4764/4764 [==============================] - 11s 2ms/step\n"
     ]
    }
   ],
   "source": [
    "y_pred = (model_deep.predict(X_test) > 0.5).astype('int32') #convert probabilities to classes"
   ]
  },
  {
   "cell_type": "code",
   "execution_count": 68,
   "id": "b2cec2a4",
   "metadata": {},
   "outputs": [
    {
     "data": {
      "text/plain": [
       "array([[0],\n",
       "       [1],\n",
       "       [1],\n",
       "       ...,\n",
       "       [1],\n",
       "       [1],\n",
       "       [0]])"
      ]
     },
     "execution_count": 68,
     "metadata": {},
     "output_type": "execute_result"
    }
   ],
   "source": [
    "y_pred"
   ]
  },
  {
   "cell_type": "code",
   "execution_count": 75,
   "id": "c5e9ba48",
   "metadata": {},
   "outputs": [
    {
     "data": {
      "text/plain": [
       "array([[0],\n",
       "       [0],\n",
       "       [1],\n",
       "       ...,\n",
       "       [1],\n",
       "       [0],\n",
       "       [1]])"
      ]
     },
     "execution_count": 75,
     "metadata": {},
     "output_type": "execute_result"
    }
   ],
   "source": [
    "np.array(y_test).reshape(-1,1)"
   ]
  },
  {
   "cell_type": "markdown",
   "id": "194c3e64",
   "metadata": {},
   "source": [
    "## Communication of Results"
   ]
  },
  {
   "cell_type": "code",
   "execution_count": 79,
   "id": "6508ec2e",
   "metadata": {},
   "outputs": [],
   "source": [
    "cmatrix = confusion_matrix(y_test, y_pred)"
   ]
  },
  {
   "cell_type": "code",
   "execution_count": 81,
   "id": "b649180f",
   "metadata": {},
   "outputs": [
    {
     "data": {
      "image/png": "[encoded data removed]",
      "text/plain": [
       "<Figure size 640x480 with 2 Axes>"
      ]
     },
     "metadata": {},
     "output_type": "display_data"
    }
   ],
   "source": [
    "sns.heatmap(cmatrix/np.sum(cmatrix), fmt='.2%', cmap='YlGnBu', annot=True)\n",
    "plt.xlabel('Predicted labels')\n",
    "plt.ylabel('True labels')\n",
    "plt.savefig('cf-matrix-hi-potential.png');"
   ]
  },
  {
   "cell_type": "code",
   "execution_count": 82,
   "id": "d12d6932",
   "metadata": {},
   "outputs": [
    {
     "name": "stdout",
     "output_type": "stream",
     "text": [
      "              precision    recall  f1-score   support\n",
      "\n",
      "           0       0.80      0.47      0.59     60765\n",
      "           1       0.72      0.92      0.81     91654\n",
      "\n",
      "    accuracy                           0.74    152419\n",
      "   macro avg       0.76      0.70      0.70    152419\n",
      "weighted avg       0.76      0.74      0.72    152419\n",
      "\n"
     ]
    }
   ],
   "source": [
    "print(classification_report(y_test, y_pred))"
   ]
  },
  {
   "cell_type": "code",
   "execution_count": null,
   "id": "39691e01",
   "metadata": {},
   "outputs": [],
   "source": []
  }
 ],
 "metadata": {
  "kernelspec": {
   "display_name": "Python 3 (ipykernel)",
   "language": "python",
   "name": "python3"
  },
  "language_info": {
   "codemirror_mode": {
    "name": "ipython",
    "version": 3
   },
   "file_extension": ".py",
   "mimetype": "text/x-python",
   "name": "python",
   "nbconvert_exporter": "python",
   "pygments_lexer": "ipython3",
   "version": "3.9.13"
  }
 },
 "nbformat": 4,
 "nbformat_minor": 5
}
